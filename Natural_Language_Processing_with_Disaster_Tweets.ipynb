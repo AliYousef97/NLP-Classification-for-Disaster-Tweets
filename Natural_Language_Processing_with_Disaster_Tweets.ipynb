{
  "nbformat": 4,
  "nbformat_minor": 0,
  "metadata": {
    "colab": {
      "provenance": [],
      "gpuType": "T4"
    },
    "kernelspec": {
      "name": "python3",
      "display_name": "Python 3"
    },
    "language_info": {
      "name": "python"
    }
  },
  "cells": [
    {
      "cell_type": "code",
      "execution_count": 1,
      "metadata": {
        "id": "EsVH9ywIMMNK",
        "colab": {
          "base_uri": "https://localhost:8080/"
        },
        "outputId": "848f3faa-f06c-4b61-c8a1-092d52d1eceb"
      },
      "outputs": [
        {
          "output_type": "stream",
          "name": "stderr",
          "text": [
            "[nltk_data] Downloading package punkt to /root/nltk_data...\n",
            "[nltk_data]   Package punkt is already up-to-date!\n",
            "[nltk_data] Downloading package stopwords to /root/nltk_data...\n",
            "[nltk_data]   Package stopwords is already up-to-date!\n"
          ]
        }
      ],
      "source": [
        "# Import Libraries\n",
        "import numpy as np \n",
        "import pandas as pd \n",
        "from sklearn import feature_extraction, linear_model, model_selection, preprocessing\n",
        "from sklearn.feature_extraction.text import TfidfVectorizer\n",
        "import re\n",
        "import nltk\n",
        "nltk.download('punkt')\n",
        "nltk.download('stopwords')\n",
        "from nltk.corpus import stopwords\n",
        "from nltk.tokenize import word_tokenize\n",
        "from nltk.stem import PorterStemmer\n",
        "import matplotlib.pyplot as plt\n",
        "from sklearn.model_selection import GridSearchCV\n",
        "from sklearn.linear_model import LogisticRegression, Lasso, RidgeClassifier\n",
        "from sklearn.naive_bayes import MultinomialNB\n",
        "from sklearn.svm import SVC\n",
        "from sklearn.ensemble import RandomForestClassifier, GradientBoostingClassifier"
      ]
    },
    {
      "cell_type": "code",
      "source": [
        "# Read Train and Test data\n",
        "train_df = pd.read_csv(\"/content/drive/MyDrive/ML_DL/KaggleCompetions/DisasterTweets/train.csv\")\n",
        "test_df = pd.read_csv(\"/content/drive/MyDrive/ML_DL/KaggleCompetions/DisasterTweets/test.csv\")"
      ],
      "metadata": {
        "id": "H-TO1Rf2MYqD"
      },
      "execution_count": 2,
      "outputs": []
    },
    {
      "cell_type": "code",
      "source": [
        "# Non disaster data sample\n",
        "train_df[train_df[\"target\"] == 0][\"text\"].values[1]"
      ],
      "metadata": {
        "id": "rw1lEyaCMbsn",
        "colab": {
          "base_uri": "https://localhost:8080/",
          "height": 36
        },
        "outputId": "a04230a8-b624-4204-9d30-caa80cb42b16"
      },
      "execution_count": 3,
      "outputs": [
        {
          "output_type": "execute_result",
          "data": {
            "text/plain": [
              "'I love fruits'"
            ],
            "application/vnd.google.colaboratory.intrinsic+json": {
              "type": "string"
            }
          },
          "metadata": {},
          "execution_count": 3
        }
      ]
    },
    {
      "cell_type": "code",
      "source": [
        "# Disaster data sample\n",
        "train_df[train_df[\"target\"] == 1][\"text\"].values[1]"
      ],
      "metadata": {
        "colab": {
          "base_uri": "https://localhost:8080/",
          "height": 36
        },
        "id": "pB86ixKDOA2K",
        "outputId": "ffdbb4e0-7e8e-42ff-e153-b990bc20159c"
      },
      "execution_count": 4,
      "outputs": [
        {
          "output_type": "execute_result",
          "data": {
            "text/plain": [
              "'Forest fire near La Ronge Sask. Canada'"
            ],
            "application/vnd.google.colaboratory.intrinsic+json": {
              "type": "string"
            }
          },
          "metadata": {},
          "execution_count": 4
        }
      ]
    },
    {
      "cell_type": "code",
      "source": [
        "# Check if the data is balanced\n",
        "\n",
        "\n",
        "def class_distribution(df):\n",
        "  # Count the number of occurrences of each label\n",
        "  label_counts = df[\"target\"].value_counts()\n",
        "\n",
        "  # Calculate the class imbalance ratio\n",
        "  imbalance_ratio = label_counts[1] / label_counts[0]\n",
        "\n",
        "  print(f\"Disasters count: {label_counts[1]}\")\n",
        "  print(f\"Non Disasters count: {label_counts[0]}\")\n",
        "  print(f\"Imbalance Ratio: {imbalance_ratio}\\n\")\n",
        "\n",
        "\n",
        "  # Create a bar plot to visualize the class distribution\n",
        "  plt.bar(label_counts.index, label_counts.values)\n",
        "  plt.xlabel(\"Label\")\n",
        "  plt.ylabel(\"Count\")\n",
        "  plt.title(\"Class Distribution\")\n",
        "  plt.xticks(label_counts.index, ['0', '1'])\n",
        "  plt.show()\n",
        "\n",
        "class_distribution(train_df)\n"
      ],
      "metadata": {
        "colab": {
          "base_uri": "https://localhost:8080/",
          "height": 541
        },
        "id": "X3DRHUVXvox7",
        "outputId": "63170dfa-3ce1-48c6-9972-b6214edd2b6e"
      },
      "execution_count": 5,
      "outputs": [
        {
          "output_type": "stream",
          "name": "stdout",
          "text": [
            "Disasters count: 3271\n",
            "Non Disasters count: 4342\n",
            "Imbalance Ratio: 0.7533394748963611\n",
            "\n"
          ]
        },
        {
          "output_type": "display_data",
          "data": {
            "text/plain": [
              "<Figure size 640x480 with 1 Axes>"
            ],
            "image/png": "[encoded data removed]"
          },
          "metadata": {}
        }
      ]
    },
    {
      "cell_type": "code",
      "source": [
        "# Preprocess the tweets\n",
        "def preprocess_text(text):\n",
        "    # Convert text to lowercase\n",
        "    text = text.lower()\n",
        "    \n",
        "    # Remove punctuation and special characters using regular expressions\n",
        "    text = re.sub(r'[^\\w\\s]', '', text)\n",
        "    \n",
        "    # Tokenize the text into individual words\n",
        "    tokens = word_tokenize(text)\n",
        "    \n",
        "    # Remove stop words\n",
        "    stop_words = set(stopwords.words('english'))\n",
        "    tokens = [word for word in tokens if word not in stop_words]\n",
        "    \n",
        "    # Apply stemming using PorterStemmer\n",
        "    stemmer = PorterStemmer()\n",
        "    tokens = [stemmer.stem(word) for word in tokens]\n",
        "    \n",
        "    return \" \".join(tokens)\n",
        "\n",
        "# Preprocess train data\n",
        "train_df['text'] = train_df['text'].apply(preprocess_text)\n",
        "\n",
        "# Preprocess test data\n",
        "test_df['text'] = test_df['text'].apply(preprocess_text)\n",
        "\n"
      ],
      "metadata": {
        "id": "23iOdHF8k6yk"
      },
      "execution_count": 6,
      "outputs": []
    },
    {
      "cell_type": "code",
      "source": [
        "# Data Sample after preprocessing\n",
        "train_df[train_df[\"target\"] == 0][\"text\"].values[1]"
      ],
      "metadata": {
        "colab": {
          "base_uri": "https://localhost:8080/",
          "height": 36
        },
        "id": "sDB8lIl3nO5T",
        "outputId": "df829b7c-e4bf-4488-8fe5-4ce69a62a907"
      },
      "execution_count": 7,
      "outputs": [
        {
          "output_type": "execute_result",
          "data": {
            "text/plain": [
              "'love fruit'"
            ],
            "application/vnd.google.colaboratory.intrinsic+json": {
              "type": "string"
            }
          },
          "metadata": {},
          "execution_count": 7
        }
      ]
    },
    {
      "cell_type": "code",
      "source": [
        "# Method that get X_train and X_test and trasform them into BoW vectors\n",
        "def bow_features(X_train, X_test):\n",
        "\n",
        "  count_vectorizer = feature_extraction.text.CountVectorizer()\n",
        "  train_vectors = count_vectorizer.fit_transform(X_train)\n",
        "  test_vectors = count_vectorizer.transform(X_test)\n",
        "\n",
        "  return train_vectors, test_vectors\n",
        "\n",
        "#train_vectors , test_vectors = bow_features(train_df[\"text\"], test_df[\"text\"])\n"
      ],
      "metadata": {
        "id": "xjKBKjiIOEIi"
      },
      "execution_count": 8,
      "outputs": []
    },
    {
      "cell_type": "code",
      "source": [
        "# Method that get X_train and X_test and trasform them into TFIDF vectors\n",
        "def tfidf_features(X_train, X_test):\n",
        "\n",
        "    tfidf_vectorizer = TfidfVectorizer(ngram_range=(1,3))\n",
        "    tfidf_vectorizer.fit(X_train)\n",
        "    X_train = tfidf_vectorizer.transform(X_train)\n",
        "    X_test =  tfidf_vectorizer.transform(X_test)\n",
        "\n",
        "    return X_train, X_test, tfidf_vectorizer.vocabulary_\n",
        "train_vectors , test_vectors, _ = tfidf_features(train_df[\"text\"], test_df[\"text\"])\n"
      ],
      "metadata": {
        "id": "YiUWFVD7pSZa"
      },
      "execution_count": 9,
      "outputs": []
    },
    {
      "cell_type": "code",
      "source": [
        "# Grid search to find the best models and params\n",
        "def grid_search_models(X, y):\n",
        "    models = {\n",
        "        'Logistic Regression': LogisticRegression(),\n",
        "        'Ridge Regression': RidgeClassifier(),\n",
        "        'MultinomialNB': MultinomialNB(),\n",
        "        }\n",
        "    \n",
        "    param_grid = {\n",
        "        'Logistic Regression': {},\n",
        "        'Ridge Regression': {'alpha': [0.1, 1.0, 10.0]},\n",
        "        'MultinomialNB': {'alpha': [0.1, 1, 10]},\n",
        "        }\n",
        "    \n",
        "    best_model = None\n",
        "    best_score = -float('inf')\n",
        "    \n",
        "    for model_name, model in models.items():\n",
        "        grid_search = GridSearchCV(model, param_grid[model_name], scoring='f1', cv=5)\n",
        "        grid_search.fit(X, y)\n",
        "        \n",
        "        if grid_search.best_score_ > best_score:\n",
        "            best_model = grid_search.best_estimator_\n",
        "            best_score = grid_search.best_score_\n",
        "        \n",
        "    \n",
        "   \n",
        "    \n",
        "    return best_model, best_score\n",
        "\n",
        "model, best_score = grid_search_models(train_vectors, train_df[\"target\"])\n",
        "\n",
        "\n",
        "print(f'best_model: {model}')\n",
        "print(f'best score: {best_score}')    \n"
      ],
      "metadata": {
        "colab": {
          "base_uri": "https://localhost:8080/"
        },
        "id": "nfsRO100O5m3",
        "outputId": "d6db6adb-c362-4231-bb15-075ae048dd9e"
      },
      "execution_count": 10,
      "outputs": [
        {
          "output_type": "stream",
          "name": "stdout",
          "text": [
            "best_model: MultinomialNB(alpha=0.1)\n",
            "best score: 0.6659496716421716\n"
          ]
        }
      ]
    },
    {
      "cell_type": "code",
      "source": [
        "# Train the model on our data\n",
        "model.fit(train_vectors, train_df[\"target\"])"
      ],
      "metadata": {
        "id": "Y6GgaM04O7ba",
        "colab": {
          "base_uri": "https://localhost:8080/",
          "height": 74
        },
        "outputId": "6d186167-3de5-4068-cfe8-4d009430be6a"
      },
      "execution_count": 11,
      "outputs": [
        {
          "output_type": "execute_result",
          "data": {
            "text/plain": [
              "MultinomialNB(alpha=0.1)"
            ],
            "text/html": [
              "<style>#sk-container-id-1 {color: black;background-color: white;}#sk-container-id-1 pre{padding: 0;}#sk-container-id-1 div.sk-toggleable {background-color: white;}#sk-container-id-1 label.sk-toggleable__label {cursor: pointer;display: block;width: 100%;margin-bottom: 0;padding: 0.3em;box-sizing: border-box;text-align: center;}#sk-container-id-1 label.sk-toggleable__label-arrow:before {content: \"▸\";float: left;margin-right: 0.25em;color: #696969;}#sk-container-id-1 label.sk-toggleable__label-arrow:hover:before {color: black;}#sk-container-id-1 div.sk-estimator:hover label.sk-toggleable__label-arrow:before {color: black;}#sk-container-id-1 div.sk-toggleable__content {max-height: 0;max-width: 0;overflow: hidden;text-align: left;background-color: #f0f8ff;}#sk-container-id-1 div.sk-toggleable__content pre {margin: 0.2em;color: black;border-radius: 0.25em;background-color: #f0f8ff;}#sk-container-id-1 input.sk-toggleable__control:checked~div.sk-toggleable__content {max-height: 200px;max-width: 100%;overflow: auto;}#sk-container-id-1 input.sk-toggleable__control:checked~label.sk-toggleable__label-arrow:before {content: \"▾\";}#sk-container-id-1 div.sk-estimator input.sk-toggleable__control:checked~label.sk-toggleable__label {background-color: #d4ebff;}#sk-container-id-1 div.sk-label input.sk-toggleable__control:checked~label.sk-toggleable__label {background-color: #d4ebff;}#sk-container-id-1 input.sk-hidden--visually {border: 0;clip: rect(1px 1px 1px 1px);clip: rect(1px, 1px, 1px, 1px);height: 1px;margin: -1px;overflow: hidden;padding: 0;position: absolute;width: 1px;}#sk-container-id-1 div.sk-estimator {font-family: monospace;background-color: #f0f8ff;border: 1px dotted black;border-radius: 0.25em;box-sizing: border-box;margin-bottom: 0.5em;}#sk-container-id-1 div.sk-estimator:hover {background-color: #d4ebff;}#sk-container-id-1 div.sk-parallel-item::after {content: \"\";width: 100%;border-bottom: 1px solid gray;flex-grow: 1;}#sk-container-id-1 div.sk-label:hover label.sk-toggleable__label {background-color: #d4ebff;}#sk-container-id-1 div.sk-serial::before {content: \"\";position: absolute;border-left: 1px solid gray;box-sizing: border-box;top: 0;bottom: 0;left: 50%;z-index: 0;}#sk-container-id-1 div.sk-serial {display: flex;flex-direction: column;align-items: center;background-color: white;padding-right: 0.2em;padding-left: 0.2em;position: relative;}#sk-container-id-1 div.sk-item {position: relative;z-index: 1;}#sk-container-id-1 div.sk-parallel {display: flex;align-items: stretch;justify-content: center;background-color: white;position: relative;}#sk-container-id-1 div.sk-item::before, #sk-container-id-1 div.sk-parallel-item::before {content: \"\";position: absolute;border-left: 1px solid gray;box-sizing: border-box;top: 0;bottom: 0;left: 50%;z-index: -1;}#sk-container-id-1 div.sk-parallel-item {display: flex;flex-direction: column;z-index: 1;position: relative;background-color: white;}#sk-container-id-1 div.sk-parallel-item:first-child::after {align-self: flex-end;width: 50%;}#sk-container-id-1 div.sk-parallel-item:last-child::after {align-self: flex-start;width: 50%;}#sk-container-id-1 div.sk-parallel-item:only-child::after {width: 0;}#sk-container-id-1 div.sk-dashed-wrapped {border: 1px dashed gray;margin: 0 0.4em 0.5em 0.4em;box-sizing: border-box;padding-bottom: 0.4em;background-color: white;}#sk-container-id-1 div.sk-label label {font-family: monospace;font-weight: bold;display: inline-block;line-height: 1.2em;}#sk-container-id-1 div.sk-label-container {text-align: center;}#sk-container-id-1 div.sk-container {/* jupyter's `normalize.less` sets `[hidden] { display: none; }` but bootstrap.min.css set `[hidden] { display: none !important; }` so we also need the `!important` here to be able to override the default hidden behavior on the sphinx rendered scikit-learn.org. See: https://github.com/scikit-learn/scikit-learn/issues/21755 */display: inline-block !important;position: relative;}#sk-container-id-1 div.sk-text-repr-fallback {display: none;}</style><div id=\"sk-container-id-1\" class=\"sk-top-container\"><div class=\"sk-text-repr-fallback\"><pre>MultinomialNB(alpha=0.1)</pre><b>In a Jupyter environment, please rerun this cell to show the HTML representation or trust the notebook. <br />On GitHub, the HTML representation is unable to render, please try loading this page with nbviewer.org.</b></div><div class=\"sk-container\" hidden><div class=\"sk-item\"><div class=\"sk-estimator sk-toggleable\"><input class=\"sk-toggleable__control sk-hidden--visually\" id=\"sk-estimator-id-1\" type=\"checkbox\" checked><label for=\"sk-estimator-id-1\" class=\"sk-toggleable__label sk-toggleable__label-arrow\">MultinomialNB</label><div class=\"sk-toggleable__content\"><pre>MultinomialNB(alpha=0.1)</pre></div></div></div></div></div>"
            ]
          },
          "metadata": {},
          "execution_count": 11
        }
      ]
    },
    {
      "cell_type": "code",
      "source": [
        "# Read the sample_submission file\n",
        "sample_submission = pd.read_csv(\"/content/drive/MyDrive/ML_DL/KaggleCompetions/DisasterTweets/sample_submission.csv\")"
      ],
      "metadata": {
        "id": "J0FDIDg4O9bf"
      },
      "execution_count": 12,
      "outputs": []
    },
    {
      "cell_type": "code",
      "source": [
        "# Preidict the test data\n",
        "sample_submission[\"target\"] = model.predict(test_vectors)"
      ],
      "metadata": {
        "id": "5efhqvLNPBOO"
      },
      "execution_count": 13,
      "outputs": []
    },
    {
      "cell_type": "code",
      "source": [
        "# Save the predictions in submission.csv file\n",
        "sample_submission.to_csv(\"/content/drive/MyDrive/ML_DL/KaggleCompetions/DisasterTweets/submission.csv\", index=False)"
      ],
      "metadata": {
        "id": "k634TK6aPLEF"
      },
      "execution_count": 14,
      "outputs": []
    },
    {
      "cell_type": "code",
      "source": [],
      "metadata": {
        "id": "TWz3lPjdPP1m"
      },
      "execution_count": 14,
      "outputs": []
    }
  ]
}